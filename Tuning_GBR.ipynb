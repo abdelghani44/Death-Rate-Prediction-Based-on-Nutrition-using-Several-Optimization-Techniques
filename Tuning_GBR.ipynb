{
 "cells": [
  {
   "cell_type": "markdown",
   "metadata": {},
   "source": [
    "importing libraries and models"
   ]
  },
  {
   "cell_type": "code",
   "execution_count": 2,
   "metadata": {},
   "outputs": [],
   "source": [
    "import numpy as np\n",
    "import pandas as pd\n",
    "import seaborn as sns\n",
    "import matplotlib.pyplot as plt\n",
    "# Importing the Coefficient of determination\n",
    "from sklearn.metrics import mean_squared_error , r2_score , mean_absolute_error\n",
    "# Importing Gradient Boosting Regressor\n",
    "from sklearn.ensemble import GradientBoostingRegressor\n",
    "# Importing Grid Search & Random Search\n",
    "from sklearn.model_selection import RandomizedSearchCV\n",
    "# Importing Optun\n",
    "import optuna\n",
    "# Importing training & testing models\n",
    "from sklearn.model_selection import train_test_split\n",
    "from sklearn.preprocessing import StandardScaler\n",
    "sc_X = StandardScaler()"
   ]
  },
  {
   "cell_type": "markdown",
   "metadata": {},
   "source": [
    "Performing EDA"
   ]
  },
  {
   "cell_type": "code",
   "execution_count": 94,
   "metadata": {},
   "outputs": [
    {
     "name": "stdout",
     "output_type": "stream",
     "text": [
      "(170,)\n",
      "(170, 4)\n"
     ]
    },
    {
     "data": {
      "text/html": [
       "<div>\n",
       "<style scoped>\n",
       "    .dataframe tbody tr th:only-of-type {\n",
       "        vertical-align: middle;\n",
       "    }\n",
       "\n",
       "    .dataframe tbody tr th {\n",
       "        vertical-align: top;\n",
       "    }\n",
       "\n",
       "    .dataframe thead th {\n",
       "        text-align: right;\n",
       "    }\n",
       "</style>\n",
       "<table border=\"1\" class=\"dataframe\">\n",
       "  <thead>\n",
       "    <tr style=\"text-align: right;\">\n",
       "      <th></th>\n",
       "      <th>Animal Products</th>\n",
       "      <th>Cereals - Excluding Beer</th>\n",
       "      <th>Obesity</th>\n",
       "      <th>Vegetal Products</th>\n",
       "    </tr>\n",
       "  </thead>\n",
       "  <tbody>\n",
       "    <tr>\n",
       "      <th>count</th>\n",
       "      <td>170.000000</td>\n",
       "      <td>170.000000</td>\n",
       "      <td>170.000000</td>\n",
       "      <td>170.000000</td>\n",
       "    </tr>\n",
       "    <tr>\n",
       "      <th>mean</th>\n",
       "      <td>20.695714</td>\n",
       "      <td>4.376548</td>\n",
       "      <td>18.377647</td>\n",
       "      <td>29.304396</td>\n",
       "    </tr>\n",
       "    <tr>\n",
       "      <th>std</th>\n",
       "      <td>8.002713</td>\n",
       "      <td>3.183815</td>\n",
       "      <td>9.862101</td>\n",
       "      <td>8.002369</td>\n",
       "    </tr>\n",
       "    <tr>\n",
       "      <th>min</th>\n",
       "      <td>5.018200</td>\n",
       "      <td>0.990800</td>\n",
       "      <td>0.000000</td>\n",
       "      <td>13.098200</td>\n",
       "    </tr>\n",
       "    <tr>\n",
       "      <th>25%</th>\n",
       "      <td>14.885800</td>\n",
       "      <td>1.970150</td>\n",
       "      <td>8.200000</td>\n",
       "      <td>23.133050</td>\n",
       "    </tr>\n",
       "    <tr>\n",
       "      <th>50%</th>\n",
       "      <td>20.943050</td>\n",
       "      <td>3.306750</td>\n",
       "      <td>20.700000</td>\n",
       "      <td>29.060600</td>\n",
       "    </tr>\n",
       "    <tr>\n",
       "      <th>75%</th>\n",
       "      <td>26.866950</td>\n",
       "      <td>5.587600</td>\n",
       "      <td>25.700000</td>\n",
       "      <td>35.117250</td>\n",
       "    </tr>\n",
       "    <tr>\n",
       "      <th>max</th>\n",
       "      <td>36.901800</td>\n",
       "      <td>18.376300</td>\n",
       "      <td>45.600000</td>\n",
       "      <td>44.981800</td>\n",
       "    </tr>\n",
       "  </tbody>\n",
       "</table>\n",
       "</div>"
      ],
      "text/plain": [
       "       Animal Products  Cereals - Excluding Beer     Obesity  Vegetal Products\n",
       "count       170.000000                170.000000  170.000000        170.000000\n",
       "mean         20.695714                  4.376548   18.377647         29.304396\n",
       "std           8.002713                  3.183815    9.862101          8.002369\n",
       "min           5.018200                  0.990800    0.000000         13.098200\n",
       "25%          14.885800                  1.970150    8.200000         23.133050\n",
       "50%          20.943050                  3.306750   20.700000         29.060600\n",
       "75%          26.866950                  5.587600   25.700000         35.117250\n",
       "max          36.901800                 18.376300   45.600000         44.981800"
      ]
     },
     "execution_count": 94,
     "metadata": {},
     "output_type": "execute_result"
    }
   ],
   "source": [
    "dataset = pd.read_csv('records.csv')\n",
    "result = pd.read_csv('results.csv').to_numpy()\n",
    "X, y = dataset, result.ravel()\n",
    "print(y.shape)\n",
    "print(X.shape)\n",
    "X.describe()"
   ]
  },
  {
   "cell_type": "code",
   "execution_count": 95,
   "metadata": {},
   "outputs": [
    {
     "data": {
      "text/plain": [
       "<AxesSubplot:>"
      ]
     },
     "execution_count": 95,
     "metadata": {},
     "output_type": "execute_result"
    },
    {
     "data": {
      "image/png": "[encoded data removed]",
      "text/plain": [
       "<Figure size 432x288 with 2 Axes>"
      ]
     },
     "metadata": {
      "needs_background": "light"
     },
     "output_type": "display_data"
    }
   ],
   "source": [
    "sns.heatmap(X.corr(), annot=True)"
   ]
  },
  {
   "cell_type": "markdown",
   "metadata": {},
   "source": [
    "Because there is multi-colinearity, we will remove the 4th Col from Data"
   ]
  },
  {
   "cell_type": "code",
   "execution_count": 96,
   "metadata": {},
   "outputs": [
    {
     "name": "stdout",
     "output_type": "stream",
     "text": [
      "   Animal Products  Cereals - Excluding Beer  Obesity\n",
      "0          21.6397                    8.0353      4.5\n",
      "1          32.0002                    2.6734     22.3\n",
      "2          14.4175                    4.2035     26.6\n",
      "3          15.3041                    6.5545      6.8\n",
      "4          27.7033                    3.2153     19.1\n"
     ]
    }
   ],
   "source": [
    "X = X.iloc[:, 0:3]\n",
    "print(X.head())"
   ]
  },
  {
   "cell_type": "markdown",
   "metadata": {},
   "source": [
    "Set train and test sizes"
   ]
  },
  {
   "cell_type": "code",
   "execution_count": 97,
   "metadata": {},
   "outputs": [],
   "source": [
    "X_train, X_test, y_train, y_test = train_test_split(\n",
    "    X, y, test_size=0.2, random_state=10)\n",
    "X_train = sc_X.fit_transform(X_train)\n",
    "X_test = sc_X.transform(X_test)"
   ]
  },
  {
   "cell_type": "markdown",
   "metadata": {},
   "source": [
    "creating the evaluation_model function with the Coefficient of determination"
   ]
  },
  {
   "cell_type": "code",
   "execution_count": 98,
   "metadata": {},
   "outputs": [],
   "source": [
    "def eval_model(model):\n",
    "    mean_abs_error=mean_absolute_error(y_test,model.predict(X_test))\n",
    "    mean_square_error=mean_squared_error(y_test,model.predict(X_test))\n",
    "    r2_error=r2_score(y_test,model.predict(X_test))\n",
    "\n",
    "    print(f'Mean absolute error : {mean_abs_error}')\n",
    "    print(f'Mean squared error : {mean_square_error}')\n",
    "    print(f'R2 score : {r2_error}')"
   ]
  },
  {
   "cell_type": "markdown",
   "metadata": {},
   "source": [
    "Gradient Boosting Regressor"
   ]
  },
  {
   "cell_type": "code",
   "execution_count": 99,
   "metadata": {},
   "outputs": [
    {
     "name": "stdout",
     "output_type": "stream",
     "text": [
      "Evaluating Gradient Boosting model :\n",
      "Mean absolute error : 0.03068160668462208\n",
      "Mean squared error : 0.0013843882291135565\n",
      "R2 score : 0.3541793030822129\n"
     ]
    }
   ],
   "source": [
    "params = {\n",
    "    \"n_estimators\": 100,\n",
    "    \"max_depth\": 4,\n",
    "    \"min_samples_split\": 5,\n",
    "    \"learning_rate\": 0.01,\n",
    "    \n",
    "}\n",
    "\n",
    "regr = GradientBoostingRegressor(**params)\n",
    "regr.fit(X_train, y_train)\n",
    "# Make predictions using the testing set\n",
    "y_pred = regr.predict(X_test)\n",
    "print(\"Evaluating Gradient Boosting model :\")\n",
    "eval_model(regr)"
   ]
  },
  {
   "cell_type": "markdown",
   "metadata": {},
   "source": [
    "Tuning Gradient Boosting with Grid Search"
   ]
  },
  {
   "cell_type": "code",
   "execution_count": 100,
   "metadata": {},
   "outputs": [
    {
     "name": "stdout",
     "output_type": "stream",
     "text": [
      "Fitting 5 folds for each of 90 candidates, totalling 450 fits\n"
     ]
    },
    {
     "data": {
      "text/plain": [
       "({'learning_rate': 0.1, 'max_depth': 1, 'n_estimators': 50, 'subsample': 0.5},\n",
       " 0.2855888754383537)"
      ]
     },
     "execution_count": 100,
     "metadata": {},
     "output_type": "execute_result"
    }
   ],
   "source": [
    "from sklearn.model_selection import GridSearchCV\n",
    "grid = dict()\n",
    "grid['n_estimators'] = [50,100,150,200,300]\n",
    "grid['learning_rate'] = [0.1,1]\n",
    "grid['subsample'] = [0.5, 0.7, 1.0]\n",
    "grid['max_depth'] = [1,2,3]\n",
    "\n",
    "tuning = GridSearchCV(estimator= regr, param_grid = grid , scoring=\"r2\", n_jobs=-1, verbose=1)\n",
    "tuning.fit(X_train,y_train)\n",
    "\n",
    "tuning.best_params_,tuning.best_score_"
   ]
  },
  {
   "cell_type": "markdown",
   "metadata": {},
   "source": [
    "Evaluating the model with Grid Search"
   ]
  },
  {
   "cell_type": "code",
   "execution_count": 101,
   "metadata": {},
   "outputs": [
    {
     "name": "stdout",
     "output_type": "stream",
     "text": [
      "Mean absolute error : 0.027496502408258235\n",
      "Mean squared error : 0.001255820659009203\n",
      "R2 score : 0.41415640775536255\n"
     ]
    }
   ],
   "source": [
    "eval_model(tuning)"
   ]
  },
  {
   "cell_type": "markdown",
   "metadata": {},
   "source": [
    "Tuning Gradient Boosting with Random Search "
   ]
  },
  {
   "cell_type": "code",
   "execution_count": 110,
   "metadata": {},
   "outputs": [
    {
     "name": "stdout",
     "output_type": "stream",
     "text": [
      "Fitting 5 folds for each of 10 candidates, totalling 50 fits\n",
      "{'subsample': 0.7, 'n_estimators': 150, 'max_depth': 1, 'learning_rate': 0.2} \n",
      " 0.21749041908051528\n"
     ]
    },
    {
     "name": "stderr",
     "output_type": "stream",
     "text": [
      "c:\\Users\\Ahmed Abdelghani\\anaconda3\\lib\\site-packages\\sklearn\\model_selection\\_search.py:922: UserWarning: One or more of the test scores are non-finite: [ 0.0478387          nan  0.18543317  0.21749042         nan -0.5380086\n",
      "  0.03355248         nan  0.01774303 -0.51868915]\n",
      "  warnings.warn(\n"
     ]
    }
   ],
   "source": [
    "grid = dict()\n",
    "grid['n_estimators'] = [50,500,100,150,200,250,300,350,400,450,]\n",
    "grid['learning_rate'] = [0.1,0.2,0.3,0.4,0.4,0.5,0.6]\n",
    "grid['subsample'] = [0.5,0.3,0.7,0.9,1.2,2.4,1.5]\n",
    "grid['max_depth'] = [1,2,3,4,5,6,7,8,9,10]\n",
    "\n",
    "tuning = RandomizedSearchCV(regr, grid , scoring=\"r2\", n_jobs=-1, verbose=1)\n",
    "tuning.fit(X_train,y_train)\n",
    "\n",
    "print(tuning.best_params_, \"\\n\", tuning.best_score_)"
   ]
  },
  {
   "cell_type": "markdown",
   "metadata": {},
   "source": [
    "Evaluating the model with Random Search"
   ]
  },
  {
   "cell_type": "code",
   "execution_count": 111,
   "metadata": {},
   "outputs": [
    {
     "name": "stdout",
     "output_type": "stream",
     "text": [
      "Mean absolute error : 0.025965509193903016\n",
      "Mean squared error : 0.001208300121525248\n",
      "R2 score : 0.43632486165463236\n"
     ]
    }
   ],
   "source": [
    "eval_model(tuning)"
   ]
  },
  {
   "cell_type": "markdown",
   "metadata": {},
   "source": [
    "Tuning Gradient Boosting with Optuna"
   ]
  },
  {
   "cell_type": "code",
   "execution_count": 119,
   "metadata": {},
   "outputs": [
    {
     "name": "stderr",
     "output_type": "stream",
     "text": [
      "\u001b[32m[I 2022-06-05 22:03:05,785]\u001b[0m A new study created in memory with name: no-name-fc74574a-6064-42a9-bd81-f95dae943f71\u001b[0m\n",
      "\u001b[32m[I 2022-06-05 22:03:05,825]\u001b[0m Trial 0 finished with value: 78.97450065617868 and parameters: {GradientBoostingRegressor(learning_rate=0.01, max_depth=4, min_samples_split=5): -6.886759851384456}. Best is trial 0 with value: 78.97450065617868.\u001b[0m\n",
      "\u001b[32m[I 2022-06-05 22:03:05,862]\u001b[0m Trial 1 finished with value: 9.902476430000267 and parameters: {GradientBoostingRegressor(learning_rate=0.01, max_depth=4, min_samples_split=5): 5.146820050463685}. Best is trial 1 with value: 9.902476430000267.\u001b[0m\n",
      "\u001b[32m[I 2022-06-05 22:03:05,894]\u001b[0m Trial 2 finished with value: 95.55680957299955 and parameters: {GradientBoostingRegressor(learning_rate=0.01, max_depth=4, min_samples_split=5): -7.775316341326226}. Best is trial 1 with value: 9.902476430000267.\u001b[0m\n",
      "\u001b[32m[I 2022-06-05 22:03:05,933]\u001b[0m Trial 3 finished with value: 16.805044185793985 and parameters: {GradientBoostingRegressor(learning_rate=0.01, max_depth=4, min_samples_split=5): 6.099395587863409}. Best is trial 1 with value: 9.902476430000267.\u001b[0m\n",
      "\u001b[32m[I 2022-06-05 22:03:05,968]\u001b[0m Trial 4 finished with value: 29.033774691165473 and parameters: {GradientBoostingRegressor(learning_rate=0.01, max_depth=4, min_samples_split=5): -3.3882997959621246}. Best is trial 1 with value: 9.902476430000267.\u001b[0m\n",
      "\u001b[32m[I 2022-06-05 22:03:06,012]\u001b[0m Trial 5 finished with value: 31.68530394867601 and parameters: {GradientBoostingRegressor(learning_rate=0.01, max_depth=4, min_samples_split=5): 7.628970061092527}. Best is trial 1 with value: 9.902476430000267.\u001b[0m\n",
      "\u001b[32m[I 2022-06-05 22:03:06,049]\u001b[0m Trial 6 finished with value: 0.5935447206394766 and parameters: {GradientBoostingRegressor(learning_rate=0.01, max_depth=4, min_samples_split=5): 2.7704185360175835}. Best is trial 6 with value: 0.5935447206394766.\u001b[0m\n",
      "\u001b[32m[I 2022-06-05 22:03:06,092]\u001b[0m Trial 7 finished with value: 75.20169627060852 and parameters: {GradientBoostingRegressor(learning_rate=0.01, max_depth=4, min_samples_split=5): -6.671891158830842}. Best is trial 6 with value: 0.5935447206394766.\u001b[0m\n",
      "\u001b[32m[I 2022-06-05 22:03:06,139]\u001b[0m Trial 8 finished with value: 19.476717192014792 and parameters: {GradientBoostingRegressor(learning_rate=0.01, max_depth=4, min_samples_split=5): 6.413243386899797}. Best is trial 6 with value: 0.5935447206394766.\u001b[0m\n",
      "\u001b[32m[I 2022-06-05 22:03:06,178]\u001b[0m Trial 9 finished with value: 13.2148786574511 and parameters: {GradientBoostingRegressor(learning_rate=0.01, max_depth=4, min_samples_split=5): -1.6352274560818199}. Best is trial 6 with value: 0.5935447206394766.\u001b[0m\n",
      "\u001b[32m[I 2022-06-05 22:03:06,214]\u001b[0m Trial 10 finished with value: 0.09625409634724298 and parameters: {GradientBoostingRegressor(learning_rate=0.01, max_depth=4, min_samples_split=5): 2.310248442940884}. Best is trial 10 with value: 0.09625409634724298.\u001b[0m\n",
      "\u001b[32m[I 2022-06-05 22:03:06,265]\u001b[0m Trial 11 finished with value: 0.04268423769183585 and parameters: {GradientBoostingRegressor(learning_rate=0.01, max_depth=4, min_samples_split=5): 2.2066016400995787}. Best is trial 11 with value: 0.04268423769183585.\u001b[0m\n",
      "\u001b[32m[I 2022-06-05 22:03:06,312]\u001b[0m Trial 12 finished with value: 0.22267759397788853 and parameters: {GradientBoostingRegressor(learning_rate=0.01, max_depth=4, min_samples_split=5): 1.52811273170609}. Best is trial 11 with value: 0.04268423769183585.\u001b[0m\n",
      "\u001b[32m[I 2022-06-05 22:03:06,354]\u001b[0m Trial 13 finished with value: 5.172667928092112 and parameters: {GradientBoostingRegressor(learning_rate=0.01, max_depth=4, min_samples_split=5): -0.2743500012293869}. Best is trial 11 with value: 0.04268423769183585.\u001b[0m\n",
      "\u001b[32m[I 2022-06-05 22:03:06,410]\u001b[0m Trial 14 finished with value: 55.593117618837496 and parameters: {GradientBoostingRegressor(learning_rate=0.01, max_depth=4, min_samples_split=5): 9.45607923903961}. Best is trial 11 with value: 0.04268423769183585.\u001b[0m\n",
      "\u001b[32m[I 2022-06-05 22:03:06,453]\u001b[0m Trial 15 finished with value: 2.1213518181253335 and parameters: {GradientBoostingRegressor(learning_rate=0.01, max_depth=4, min_samples_split=5): 3.4564861201279378}. Best is trial 11 with value: 0.04268423769183585.\u001b[0m\n",
      "\u001b[32m[I 2022-06-05 22:03:06,492]\u001b[0m Trial 16 finished with value: 27.60912352599476 and parameters: {GradientBoostingRegressor(learning_rate=0.01, max_depth=4, min_samples_split=5): -3.2544384596258014}. Best is trial 11 with value: 0.04268423769183585.\u001b[0m\n",
      "\u001b[32m[I 2022-06-05 22:03:06,541]\u001b[0m Trial 17 finished with value: 0.6989413420237742 and parameters: {GradientBoostingRegressor(learning_rate=0.01, max_depth=4, min_samples_split=5): 1.1639728820045523}. Best is trial 11 with value: 0.04268423769183585.\u001b[0m\n",
      "\u001b[32m[I 2022-06-05 22:03:06,582]\u001b[0m Trial 18 finished with value: 3.7598491179105022 and parameters: {GradientBoostingRegressor(learning_rate=0.01, max_depth=4, min_samples_split=5): 3.939033036828022}. Best is trial 11 with value: 0.04268423769183585.\u001b[0m\n",
      "\u001b[32m[I 2022-06-05 22:03:06,621]\u001b[0m Trial 19 finished with value: 9.286864124838456 and parameters: {GradientBoostingRegressor(learning_rate=0.01, max_depth=4, min_samples_split=5): -1.047435663773471}. Best is trial 11 with value: 0.04268423769183585.\u001b[0m\n",
      "\u001b[32m[I 2022-06-05 22:03:06,671]\u001b[0m Trial 20 finished with value: 48.05674677654492 and parameters: {GradientBoostingRegressor(learning_rate=0.01, max_depth=4, min_samples_split=5): -4.932297366425139}. Best is trial 11 with value: 0.04268423769183585.\u001b[0m\n",
      "\u001b[32m[I 2022-06-05 22:03:06,721]\u001b[0m Trial 21 finished with value: 0.781018423256218 and parameters: {GradientBoostingRegressor(learning_rate=0.01, max_depth=4, min_samples_split=5): 1.116247532814636}. Best is trial 11 with value: 0.04268423769183585.\u001b[0m\n",
      "\u001b[32m[I 2022-06-05 22:03:06,769]\u001b[0m Trial 22 finished with value: 0.013440058384504806 and parameters: {GradientBoostingRegressor(learning_rate=0.01, max_depth=4, min_samples_split=5): 1.8840687342236582}. Best is trial 22 with value: 0.013440058384504806.\u001b[0m\n",
      "\u001b[32m[I 2022-06-05 22:03:06,804]\u001b[0m Trial 23 finished with value: 0.3368986952086334 and parameters: {GradientBoostingRegressor(learning_rate=0.01, max_depth=4, min_samples_split=5): 2.58042975045102}. Best is trial 22 with value: 0.013440058384504806.\u001b[0m\n",
      "\u001b[32m[I 2022-06-05 22:03:06,851]\u001b[0m Trial 24 finished with value: 4.530987001203248 and parameters: {GradientBoostingRegressor(learning_rate=0.01, max_depth=4, min_samples_split=5): 4.128611519559933}. Best is trial 22 with value: 0.013440058384504806.\u001b[0m\n",
      "\u001b[32m[I 2022-06-05 22:03:06,897]\u001b[0m Trial 25 finished with value: 19.028145352518408 and parameters: {GradientBoostingRegressor(learning_rate=0.01, max_depth=4, min_samples_split=5): -2.3621262421574194}. Best is trial 22 with value: 0.013440058384504806.\u001b[0m\n",
      "\u001b[32m[I 2022-06-05 22:03:06,941]\u001b[0m Trial 26 finished with value: 1.3833761745101976 and parameters: {GradientBoostingRegressor(learning_rate=0.01, max_depth=4, min_samples_split=5): 0.8238298700824793}. Best is trial 22 with value: 0.013440058384504806.\u001b[0m\n",
      "\u001b[32m[I 2022-06-05 22:03:06,982]\u001b[0m Trial 27 finished with value: 5.727235487849829 and parameters: {GradientBoostingRegressor(learning_rate=0.01, max_depth=4, min_samples_split=5): -0.3931643252918986}. Best is trial 22 with value: 0.013440058384504806.\u001b[0m\n",
      "\u001b[32m[I 2022-06-05 22:03:07,030]\u001b[0m Trial 28 finished with value: 36.76748080984565 and parameters: {GradientBoostingRegressor(learning_rate=0.01, max_depth=4, min_samples_split=5): 8.063619447973764}. Best is trial 22 with value: 0.013440058384504806.\u001b[0m\n",
      "\u001b[32m[I 2022-06-05 22:03:07,068]\u001b[0m Trial 29 finished with value: 0.031738503977836154 and parameters: {GradientBoostingRegressor(learning_rate=0.01, max_depth=4, min_samples_split=5): 2.178153035275395}. Best is trial 22 with value: 0.013440058384504806.\u001b[0m\n",
      "\u001b[32m[I 2022-06-05 22:03:07,113]\u001b[0m Trial 30 finished with value: 127.40073287678266 and parameters: {GradientBoostingRegressor(learning_rate=0.01, max_depth=4, min_samples_split=5): -9.287193312634574}. Best is trial 22 with value: 0.013440058384504806.\u001b[0m\n",
      "\u001b[32m[I 2022-06-05 22:03:07,143]\u001b[0m Trial 31 finished with value: 0.1685429156420161 and parameters: {GradientBoostingRegressor(learning_rate=0.01, max_depth=4, min_samples_split=5): 2.4105397856992865}. Best is trial 22 with value: 0.013440058384504806.\u001b[0m\n",
      "\u001b[32m[I 2022-06-05 22:03:07,183]\u001b[0m Trial 32 finished with value: 7.721110684084503 and parameters: {GradientBoostingRegressor(learning_rate=0.01, max_depth=4, min_samples_split=5): 4.778688662676066}. Best is trial 22 with value: 0.013440058384504806.\u001b[0m\n",
      "\u001b[32m[I 2022-06-05 22:03:07,223]\u001b[0m Trial 33 finished with value: 10.71259913653579 and parameters: {GradientBoostingRegressor(learning_rate=0.01, max_depth=4, min_samples_split=5): 5.273010714393674}. Best is trial 22 with value: 0.013440058384504806.\u001b[0m\n",
      "\u001b[32m[I 2022-06-05 22:03:07,259]\u001b[0m Trial 34 finished with value: 0.002831669515984055 and parameters: {GradientBoostingRegressor(learning_rate=0.01, max_depth=4, min_samples_split=5): 2.053213433604533}. Best is trial 34 with value: 0.002831669515984055.\u001b[0m\n",
      "\u001b[32m[I 2022-06-05 22:03:07,295]\u001b[0m Trial 35 finished with value: 1.4918996080245317 and parameters: {GradientBoostingRegressor(learning_rate=0.01, max_depth=4, min_samples_split=5): 0.7785665765075316}. Best is trial 34 with value: 0.002831669515984055.\u001b[0m\n",
      "\u001b[32m[I 2022-06-05 22:03:07,332]\u001b[0m Trial 36 finished with value: 17.389735641764094 and parameters: {GradientBoostingRegressor(learning_rate=0.01, max_depth=4, min_samples_split=5): 6.170100195650471}. Best is trial 34 with value: 0.002831669515984055.\u001b[0m\n",
      "\u001b[32m[I 2022-06-05 22:03:07,374]\u001b[0m Trial 37 finished with value: 2.155139499436037 and parameters: {GradientBoostingRegressor(learning_rate=0.01, max_depth=4, min_samples_split=5): 3.4680393385178876}. Best is trial 34 with value: 0.002831669515984055.\u001b[0m\n",
      "\u001b[32m[I 2022-06-05 22:03:07,416]\u001b[0m Trial 38 finished with value: 9.468293561881925 and parameters: {GradientBoostingRegressor(learning_rate=0.01, max_depth=4, min_samples_split=5): 5.077059239254572}. Best is trial 34 with value: 0.002831669515984055.\u001b[0m\n",
      "\u001b[32m[I 2022-06-05 22:03:07,473]\u001b[0m Trial 39 finished with value: 13.25806301479815 and parameters: {GradientBoostingRegressor(learning_rate=0.01, max_depth=4, min_samples_split=5): -1.641162316458599}. Best is trial 34 with value: 0.002831669515984055.\u001b[0m\n",
      "\u001b[32m[I 2022-06-05 22:03:07,513]\u001b[0m Trial 40 finished with value: 3.427286291840009 and parameters: {GradientBoostingRegressor(learning_rate=0.01, max_depth=4, min_samples_split=5): 0.14870685956005084}. Best is trial 34 with value: 0.002831669515984055.\u001b[0m\n",
      "\u001b[32m[I 2022-06-05 22:03:07,551]\u001b[0m Trial 41 finished with value: 0.1842708586522006 and parameters: {GradientBoostingRegressor(learning_rate=0.01, max_depth=4, min_samples_split=5): 2.4292678169304107}. Best is trial 34 with value: 0.002831669515984055.\u001b[0m\n",
      "\u001b[32m[I 2022-06-05 22:03:07,591]\u001b[0m Trial 42 finished with value: 0.05228262228153431 and parameters: {GradientBoostingRegressor(learning_rate=0.01, max_depth=4, min_samples_split=5): 1.771346064364651}. Best is trial 34 with value: 0.002831669515984055.\u001b[0m\n",
      "\u001b[32m[I 2022-06-05 22:03:07,631]\u001b[0m Trial 43 finished with value: 0.04519322188821275 and parameters: {GradientBoostingRegressor(learning_rate=0.01, max_depth=4, min_samples_split=5): 1.7874130251209808}. Best is trial 34 with value: 0.002831669515984055.\u001b[0m\n",
      "\u001b[32m[I 2022-06-05 22:03:07,668]\u001b[0m Trial 44 finished with value: 2.765572948525175 and parameters: {GradientBoostingRegressor(learning_rate=0.01, max_depth=4, min_samples_split=5): 0.3369988128310988}. Best is trial 34 with value: 0.002831669515984055.\u001b[0m\n",
      "\u001b[32m[I 2022-06-05 22:03:07,716]\u001b[0m Trial 45 finished with value: 0.9921919147384837 and parameters: {GradientBoostingRegressor(learning_rate=0.01, max_depth=4, min_samples_split=5): 2.9960883066969934}. Best is trial 34 with value: 0.002831669515984055.\u001b[0m\n",
      "\u001b[32m[I 2022-06-05 22:03:07,773]\u001b[0m Trial 46 finished with value: 7.891856642541829 and parameters: {GradientBoostingRegressor(learning_rate=0.01, max_depth=4, min_samples_split=5): -0.8092448527214264}. Best is trial 34 with value: 0.002831669515984055.\u001b[0m\n",
      "\u001b[32m[I 2022-06-05 22:03:07,815]\u001b[0m Trial 47 finished with value: 5.949414042209009 and parameters: {GradientBoostingRegressor(learning_rate=0.01, max_depth=4, min_samples_split=5): 4.439142070935805}. Best is trial 34 with value: 0.002831669515984055.\u001b[0m\n",
      "\u001b[32m[I 2022-06-05 22:03:07,854]\u001b[0m Trial 48 finished with value: 28.301185832303673 and parameters: {GradientBoostingRegressor(learning_rate=0.01, max_depth=4, min_samples_split=5): 7.319885885270818}. Best is trial 34 with value: 0.002831669515984055.\u001b[0m\n",
      "\u001b[32m[I 2022-06-05 22:03:07,893]\u001b[0m Trial 49 finished with value: 0.06264077975924272 and parameters: {GradientBoostingRegressor(learning_rate=0.01, max_depth=4, min_samples_split=5): 1.7497185988547237}. Best is trial 34 with value: 0.002831669515984055.\u001b[0m\n",
      "\u001b[32m[I 2022-06-05 22:03:07,930]\u001b[0m Trial 50 finished with value: 21.547152935391736 and parameters: {GradientBoostingRegressor(learning_rate=0.01, max_depth=4, min_samples_split=5): -2.6418910947362537}. Best is trial 34 with value: 0.002831669515984055.\u001b[0m\n",
      "\u001b[32m[I 2022-06-05 22:03:07,973]\u001b[0m Trial 51 finished with value: 0.032574066906926616 and parameters: {GradientBoostingRegressor(learning_rate=0.01, max_depth=4, min_samples_split=5): 1.8195171284943454}. Best is trial 34 with value: 0.002831669515984055.\u001b[0m\n",
      "\u001b[32m[I 2022-06-05 22:03:08,013]\u001b[0m Trial 52 finished with value: 1.3182442696875074 and parameters: {GradientBoostingRegressor(learning_rate=0.01, max_depth=4, min_samples_split=5): 3.148148191518633}. Best is trial 34 with value: 0.002831669515984055.\u001b[0m\n",
      "\u001b[32m[I 2022-06-05 22:03:08,062]\u001b[0m Trial 53 finished with value: 0.07165228307030673 and parameters: {GradientBoostingRegressor(learning_rate=0.01, max_depth=4, min_samples_split=5): 1.7323205591191084}. Best is trial 34 with value: 0.002831669515984055.\u001b[0m\n",
      "\u001b[32m[I 2022-06-05 22:03:08,097]\u001b[0m Trial 54 finished with value: 2.8805627109529386 and parameters: {GradientBoostingRegressor(learning_rate=0.01, max_depth=4, min_samples_split=5): 0.30277794294531435}. Best is trial 34 with value: 0.002831669515984055.\u001b[0m\n",
      "\u001b[32m[I 2022-06-05 22:03:08,136]\u001b[0m Trial 55 finished with value: 2.7881373587770253 and parameters: {GradientBoostingRegressor(learning_rate=0.01, max_depth=4, min_samples_split=5): 3.669771648692427}. Best is trial 34 with value: 0.002831669515984055.\u001b[0m\n",
      "\u001b[32m[I 2022-06-05 22:03:08,181]\u001b[0m Trial 56 finished with value: 0.0003199291710173015 and parameters: {GradientBoostingRegressor(learning_rate=0.01, max_depth=4, min_samples_split=5): 1.9821134360198136}. Best is trial 56 with value: 0.0003199291710173015.\u001b[0m\n",
      "\u001b[32m[I 2022-06-05 22:03:08,235]\u001b[0m Trial 57 finished with value: 0.7728159189686844 and parameters: {GradientBoostingRegressor(learning_rate=0.01, max_depth=4, min_samples_split=5): 2.879099493213757}. Best is trial 56 with value: 0.0003199291710173015.\u001b[0m\n",
      "\u001b[32m[I 2022-06-05 22:03:08,279]\u001b[0m Trial 58 finished with value: 1.2045824795916371 and parameters: {GradientBoostingRegressor(learning_rate=0.01, max_depth=4, min_samples_split=5): 0.9024652718061096}. Best is trial 56 with value: 0.0003199291710173015.\u001b[0m\n",
      "\u001b[32m[I 2022-06-05 22:03:08,318]\u001b[0m Trial 59 finished with value: 11.145970643974888 and parameters: {GradientBoostingRegressor(learning_rate=0.01, max_depth=4, min_samples_split=5): 5.338558168427635}. Best is trial 56 with value: 0.0003199291710173015.\u001b[0m\n",
      "\u001b[32m[I 2022-06-05 22:03:08,359]\u001b[0m Trial 60 finished with value: 8.185596206183083 and parameters: {GradientBoostingRegressor(learning_rate=0.01, max_depth=4, min_samples_split=5): -0.8610480957479698}. Best is trial 56 with value: 0.0003199291710173015.\u001b[0m\n",
      "\u001b[32m[I 2022-06-05 22:03:08,401]\u001b[0m Trial 61 finished with value: 0.02381969349611757 and parameters: {GradientBoostingRegressor(learning_rate=0.01, max_depth=4, min_samples_split=5): 1.8456637000050942}. Best is trial 56 with value: 0.0003199291710173015.\u001b[0m\n",
      "\u001b[32m[I 2022-06-05 22:03:08,445]\u001b[0m Trial 62 finished with value: 0.014763302199981045 and parameters: {GradientBoostingRegressor(learning_rate=0.01, max_depth=4, min_samples_split=5): 2.1215043299639196}. Best is trial 56 with value: 0.0003199291710173015.\u001b[0m\n",
      "\u001b[32m[I 2022-06-05 22:03:08,501]\u001b[0m Trial 63 finished with value: 4.0371080225984 and parameters: {GradientBoostingRegressor(learning_rate=0.01, max_depth=4, min_samples_split=5): 4.0092555891668935}. Best is trial 56 with value: 0.0003199291710173015.\u001b[0m\n",
      "\u001b[32m[I 2022-06-05 22:03:08,555]\u001b[0m Trial 64 finished with value: 0.34945276751356175 and parameters: {GradientBoostingRegressor(learning_rate=0.01, max_depth=4, min_samples_split=5): 1.4088546984762869}. Best is trial 56 with value: 0.0003199291710173015.\u001b[0m\n",
      "\u001b[32m[I 2022-06-05 22:03:08,593]\u001b[0m Trial 65 finished with value: 0.0732158667409021 and parameters: {GradientBoostingRegressor(learning_rate=0.01, max_depth=4, min_samples_split=5): 2.270584306161503}. Best is trial 56 with value: 0.0003199291710173015.\u001b[0m\n",
      "\u001b[32m[I 2022-06-05 22:03:08,634]\u001b[0m Trial 66 finished with value: 4.733826526173019 and parameters: {GradientBoostingRegressor(learning_rate=0.01, max_depth=4, min_samples_split=5): -0.1757358585483253}. Best is trial 56 with value: 0.0003199291710173015.\u001b[0m\n",
      "\u001b[32m[I 2022-06-05 22:03:08,667]\u001b[0m Trial 67 finished with value: 2.0095300460191785 and parameters: {GradientBoostingRegressor(learning_rate=0.01, max_depth=4, min_samples_split=5): 0.582421061803196}. Best is trial 56 with value: 0.0003199291710173015.\u001b[0m\n",
      "\u001b[32m[I 2022-06-05 22:03:08,708]\u001b[0m Trial 68 finished with value: 12.923400819040776 and parameters: {GradientBoostingRegressor(learning_rate=0.01, max_depth=4, min_samples_split=5): -1.5949131865791666}. Best is trial 56 with value: 0.0003199291710173015.\u001b[0m\n",
      "\u001b[32m[I 2022-06-05 22:03:08,745]\u001b[0m Trial 69 finished with value: 0.9864658287077875 and parameters: {GradientBoostingRegressor(learning_rate=0.01, max_depth=4, min_samples_split=5): 2.9932098613625358}. Best is trial 56 with value: 0.0003199291710173015.\u001b[0m\n",
      "\u001b[32m[I 2022-06-05 22:03:08,791]\u001b[0m Trial 70 finished with value: 50.12454205641082 and parameters: {GradientBoostingRegressor(learning_rate=0.01, max_depth=4, min_samples_split=5): -5.07986878807869}. Best is trial 56 with value: 0.0003199291710173015.\u001b[0m\n",
      "\u001b[32m[I 2022-06-05 22:03:08,833]\u001b[0m Trial 71 finished with value: 0.12313687834017159 and parameters: {GradientBoostingRegressor(learning_rate=0.01, max_depth=4, min_samples_split=5): 2.350908646716167}. Best is trial 56 with value: 0.0003199291710173015.\u001b[0m\n",
      "\u001b[32m[I 2022-06-05 22:03:08,881]\u001b[0m Trial 72 finished with value: 0.6508893893590749 and parameters: {GradientBoostingRegressor(learning_rate=0.01, max_depth=4, min_samples_split=5): 1.1932228378547922}. Best is trial 56 with value: 0.0003199291710173015.\u001b[0m\n",
      "\u001b[32m[I 2022-06-05 22:03:08,925]\u001b[0m Trial 73 finished with value: 2.487846813436297 and parameters: {GradientBoostingRegressor(learning_rate=0.01, max_depth=4, min_samples_split=5): 3.5772909729774964}. Best is trial 56 with value: 0.0003199291710173015.\u001b[0m\n",
      "\u001b[32m[I 2022-06-05 22:03:08,969]\u001b[0m Trial 74 finished with value: 0.00797844197762632 and parameters: {GradientBoostingRegressor(learning_rate=0.01, max_depth=4, min_samples_split=5): 2.089322124793504}. Best is trial 56 with value: 0.0003199291710173015.\u001b[0m\n",
      "\u001b[32m[I 2022-06-05 22:03:09,011]\u001b[0m Trial 75 finished with value: 6.362305694783257 and parameters: {GradientBoostingRegressor(learning_rate=0.01, max_depth=4, min_samples_split=5): 4.522361134885974}. Best is trial 56 with value: 0.0003199291710173015.\u001b[0m\n",
      "\u001b[32m[I 2022-06-05 22:03:09,052]\u001b[0m Trial 76 finished with value: 0.008019217175648921 and parameters: {GradientBoostingRegressor(learning_rate=0.01, max_depth=4, min_samples_split=5): 2.089550081941051}. Best is trial 56 with value: 0.0003199291710173015.\u001b[0m\n",
      "\u001b[32m[I 2022-06-05 22:03:09,091]\u001b[0m Trial 77 finished with value: 0.4702821382888611 and parameters: {GradientBoostingRegressor(learning_rate=0.01, max_depth=4, min_samples_split=5): 2.685771199664189}. Best is trial 56 with value: 0.0003199291710173015.\u001b[0m\n",
      "\u001b[32m[I 2022-06-05 22:03:09,129]\u001b[0m Trial 78 finished with value: 0.7695703561156391 and parameters: {GradientBoostingRegressor(learning_rate=0.01, max_depth=4, min_samples_split=5): 1.1227484077440275}. Best is trial 56 with value: 0.0003199291710173015.\u001b[0m\n",
      "\u001b[32m[I 2022-06-05 22:03:09,168]\u001b[0m Trial 79 finished with value: 5.652869139353039 and parameters: {GradientBoostingRegressor(learning_rate=0.01, max_depth=4, min_samples_split=5): -0.37757631619955356}. Best is trial 56 with value: 0.0003199291710173015.\u001b[0m\n",
      "\u001b[32m[I 2022-06-05 22:03:09,216]\u001b[0m Trial 80 finished with value: 14.377780560596138 and parameters: {GradientBoostingRegressor(learning_rate=0.01, max_depth=4, min_samples_split=5): 5.7918043937677135}. Best is trial 56 with value: 0.0003199291710173015.\u001b[0m\n",
      "\u001b[32m[I 2022-06-05 22:03:09,276]\u001b[0m Trial 81 finished with value: 0.3537102540082752 and parameters: {GradientBoostingRegressor(learning_rate=0.01, max_depth=4, min_samples_split=5): 1.4052645512429285}. Best is trial 56 with value: 0.0003199291710173015.\u001b[0m\n",
      "\u001b[32m[I 2022-06-05 22:03:09,309]\u001b[0m Trial 82 finished with value: 0.0016685940898610947 and parameters: {GradientBoostingRegressor(learning_rate=0.01, max_depth=4, min_samples_split=5): 2.040848428242236}. Best is trial 56 with value: 0.0003199291710173015.\u001b[0m\n",
      "\u001b[32m[I 2022-06-05 22:03:09,362]\u001b[0m Trial 83 finished with value: 0.009915717215017552 and parameters: {GradientBoostingRegressor(learning_rate=0.01, max_depth=4, min_samples_split=5): 2.0995776943648403}. Best is trial 56 with value: 0.0003199291710173015.\u001b[0m\n",
      "\u001b[32m[I 2022-06-05 22:03:09,390]\u001b[0m Trial 84 finished with value: 1.2358767974692386 and parameters: {GradientBoostingRegressor(learning_rate=0.01, max_depth=4, min_samples_split=5): 3.1116999583832134}. Best is trial 56 with value: 0.0003199291710173015.\u001b[0m\n",
      "\u001b[32m[I 2022-06-05 22:03:09,446]\u001b[0m Trial 85 finished with value: 0.024337947052971057 and parameters: {GradientBoostingRegressor(learning_rate=0.01, max_depth=4, min_samples_split=5): 2.1560062404295772}. Best is trial 56 with value: 0.0003199291710173015.\u001b[0m\n",
      "\u001b[32m[I 2022-06-05 22:03:09,491]\u001b[0m Trial 86 finished with value: 4.390533686210877 and parameters: {GradientBoostingRegressor(learning_rate=0.01, max_depth=4, min_samples_split=5): 4.095360037370876}. Best is trial 56 with value: 0.0003199291710173015.\u001b[0m\n",
      "\u001b[32m[I 2022-06-05 22:03:09,540]\u001b[0m Trial 87 finished with value: 1.473063532062032 and parameters: {GradientBoostingRegressor(learning_rate=0.01, max_depth=4, min_samples_split=5): 0.7863017129195444}. Best is trial 56 with value: 0.0003199291710173015.\u001b[0m\n",
      "\u001b[32m[I 2022-06-05 22:03:09,586]\u001b[0m Trial 88 finished with value: 1.8946270387391455 and parameters: {GradientBoostingRegressor(learning_rate=0.01, max_depth=4, min_samples_split=5): 3.3764545174974527}. Best is trial 56 with value: 0.0003199291710173015.\u001b[0m\n",
      "\u001b[32m[I 2022-06-05 22:03:09,623]\u001b[0m Trial 89 finished with value: 3.2353231146557153 and parameters: {GradientBoostingRegressor(learning_rate=0.01, max_depth=4, min_samples_split=5): 0.20129960397632773}. Best is trial 56 with value: 0.0003199291710173015.\u001b[0m\n",
      "\u001b[32m[I 2022-06-05 22:03:09,665]\u001b[0m Trial 90 finished with value: 0.001657049756961416 and parameters: {GradientBoostingRegressor(learning_rate=0.01, max_depth=4, min_samples_split=5): 1.959293123959687}. Best is trial 56 with value: 0.0003199291710173015.\u001b[0m\n",
      "\u001b[32m[I 2022-06-05 22:03:09,708]\u001b[0m Trial 91 finished with value: 0.0023973667984647745 and parameters: {GradientBoostingRegressor(learning_rate=0.01, max_depth=4, min_samples_split=5): 2.0489629124793938}. Best is trial 56 with value: 0.0003199291710173015.\u001b[0m\n",
      "\u001b[32m[I 2022-06-05 22:03:09,755]\u001b[0m Trial 92 finished with value: 0.36350670367044907 and parameters: {GradientBoostingRegressor(learning_rate=0.01, max_depth=4, min_samples_split=5): 2.6029151712060736}. Best is trial 56 with value: 0.0003199291710173015.\u001b[0m\n",
      "\u001b[32m[I 2022-06-05 22:03:09,802]\u001b[0m Trial 93 finished with value: 0.00016058593282946526 and parameters: {GradientBoostingRegressor(learning_rate=0.01, max_depth=4, min_samples_split=5): 2.012672250503737}. Best is trial 93 with value: 0.00016058593282946526.\u001b[0m\n",
      "\u001b[32m[I 2022-06-05 22:03:09,845]\u001b[0m Trial 94 finished with value: 2.0018265352323565 and parameters: {GradientBoostingRegressor(learning_rate=0.01, max_depth=4, min_samples_split=5): 0.5851408072771493}. Best is trial 93 with value: 0.00016058593282946526.\u001b[0m\n",
      "\u001b[32m[I 2022-06-05 22:03:09,888]\u001b[0m Trial 95 finished with value: 2.8269878160907367 and parameters: {GradientBoostingRegressor(learning_rate=0.01, max_depth=4, min_samples_split=5): 3.6813648670323573}. Best is trial 93 with value: 0.00016058593282946526.\u001b[0m\n",
      "\u001b[32m[I 2022-06-05 22:03:09,938]\u001b[0m Trial 96 finished with value: 0.38395304330746466 and parameters: {GradientBoostingRegressor(learning_rate=0.01, max_depth=4, min_samples_split=5): 1.380360553783521}. Best is trial 93 with value: 0.00016058593282946526.\u001b[0m\n",
      "\u001b[32m[I 2022-06-05 22:03:09,983]\u001b[0m Trial 97 finished with value: 0.866891583934285 and parameters: {GradientBoostingRegressor(learning_rate=0.01, max_depth=4, min_samples_split=5): 2.9310701283653584}. Best is trial 93 with value: 0.00016058593282946526.\u001b[0m\n",
      "\u001b[32m[I 2022-06-05 22:03:10,041]\u001b[0m Trial 98 finished with value: 0.375603842583179 and parameters: {GradientBoostingRegressor(learning_rate=0.01, max_depth=4, min_samples_split=5): 2.612865272782835}. Best is trial 93 with value: 0.00016058593282946526.\u001b[0m\n",
      "\u001b[32m[I 2022-06-05 22:03:10,083]\u001b[0m Trial 99 finished with value: 0.0059432426608929485 and parameters: {GradientBoostingRegressor(learning_rate=0.01, max_depth=4, min_samples_split=5): 1.9229075706642154}. Best is trial 93 with value: 0.00016058593282946526.\u001b[0m\n"
     ]
    },
    {
     "data": {
      "text/plain": [
       "{GradientBoostingRegressor(learning_rate=0.01, max_depth=4, min_samples_split=5): 2.012672250503737}"
      ]
     },
     "execution_count": 119,
     "metadata": {},
     "output_type": "execute_result"
    }
   ],
   "source": [
    "params = {\n",
    "    \"n_estimators\": 100,\n",
    "    \"max_depth\": 4,\n",
    "    \"min_samples_split\": 5,\n",
    "    \"learning_rate\": 0.01,\n",
    "}\n",
    "\n",
    "regr = GradientBoostingRegressor(**params)\n",
    "regr.fit(X_train, y_train)\n",
    "\n",
    "def objective(trial):\n",
    "    x = trial.suggest_float(regr, -10, 10)\n",
    "    return (x - 2) ** 2\n",
    "\n",
    "\n",
    "study = optuna.create_study()\n",
    "study.optimize(objective, n_trials=100)\n",
    "\n",
    "study.best_params"
   ]
  },
  {
   "cell_type": "markdown",
   "metadata": {},
   "source": [
    "Evaluating the model with Optuna"
   ]
  },
  {
   "cell_type": "code",
   "execution_count": 120,
   "metadata": {},
   "outputs": [
    {
     "name": "stdout",
     "output_type": "stream",
     "text": [
      "Mean absolute error : 0.030693705063438787\n",
      "Mean squared error : 0.001385605321789984\n",
      "R2 score : 0.3536115261942172\n"
     ]
    }
   ],
   "source": [
    "eval_model(regr)"
   ]
  }
 ],
 "metadata": {
  "interpreter": {
   "hash": "655fa1bae6472e9c27cd899c4cdf8b59ed3adc12f622bc5c9d24ff662d81161d"
  },
  "kernelspec": {
   "display_name": "Python 3.9.7 ('base')",
   "language": "python",
   "name": "python3"
  },
  "language_info": {
   "codemirror_mode": {
    "name": "ipython",
    "version": 3
   },
   "file_extension": ".py",
   "mimetype": "text/x-python",
   "name": "python",
   "nbconvert_exporter": "python",
   "pygments_lexer": "ipython3",
   "version": "3.9.7"
  },
  "orig_nbformat": 4
 },
 "nbformat": 4,
 "nbformat_minor": 2
}
