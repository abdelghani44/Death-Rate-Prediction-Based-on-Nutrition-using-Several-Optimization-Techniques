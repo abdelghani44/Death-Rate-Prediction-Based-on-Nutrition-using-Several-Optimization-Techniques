{
 "cells": [
  {
   "cell_type": "markdown",
   "metadata": {},
   "source": [
    "importing libraries and models"
   ]
  },
  {
   "cell_type": "code",
   "execution_count": 16,
   "metadata": {},
   "outputs": [],
   "source": [
    "import numpy as np\n",
    "import pandas as pd\n",
    "import seaborn as sns\n",
    "# Importing the Coefficient of determination\n",
    "from sklearn.metrics import mean_squared_error , r2_score , mean_absolute_error\n",
    "# Importing Decision Tree\n",
    "from sklearn.tree import DecisionTreeRegressor\n",
    "# Importing Lasso & Ridge & Bayesian Ridge\n",
    "from sklearn.linear_model import Lasso, Ridge, BayesianRidge\n",
    "# Importing KNN\n",
    "from sklearn.neighbors import KNeighborsRegressor\n",
    "# Importing SVM\n",
    "from sklearn.svm import SVR\n",
    "# Importing MLP\n",
    "from sklearn.neural_network import MLPRegressor\n",
    "# Importing Random Forest & Gradient Boosting Regressor\n",
    "from sklearn.ensemble import RandomForestRegressor , GradientBoostingRegressor\n",
    "# Importing training & testing models\n",
    "from sklearn.model_selection import train_test_split\n",
    "from sklearn.preprocessing import StandardScaler\n",
    "sc_X = StandardScaler()"
   ]
  },
  {
   "cell_type": "markdown",
   "metadata": {},
   "source": [
    "Performing EDA"
   ]
  },
  {
   "cell_type": "code",
   "execution_count": 17,
   "metadata": {},
   "outputs": [
    {
     "name": "stdout",
     "output_type": "stream",
     "text": [
      "(170,)\n",
      "(170, 4)\n"
     ]
    },
    {
     "data": {
      "text/html": [
       "<div>\n",
       "<style scoped>\n",
       "    .dataframe tbody tr th:only-of-type {\n",
       "        vertical-align: middle;\n",
       "    }\n",
       "\n",
       "    .dataframe tbody tr th {\n",
       "        vertical-align: top;\n",
       "    }\n",
       "\n",
       "    .dataframe thead th {\n",
       "        text-align: right;\n",
       "    }\n",
       "</style>\n",
       "<table border=\"1\" class=\"dataframe\">\n",
       "  <thead>\n",
       "    <tr style=\"text-align: right;\">\n",
       "      <th></th>\n",
       "      <th>Animal Products</th>\n",
       "      <th>Cereals - Excluding Beer</th>\n",
       "      <th>Obesity</th>\n",
       "      <th>Vegetal Products</th>\n",
       "    </tr>\n",
       "  </thead>\n",
       "  <tbody>\n",
       "    <tr>\n",
       "      <th>count</th>\n",
       "      <td>170.000000</td>\n",
       "      <td>170.000000</td>\n",
       "      <td>170.000000</td>\n",
       "      <td>170.000000</td>\n",
       "    </tr>\n",
       "    <tr>\n",
       "      <th>mean</th>\n",
       "      <td>20.695714</td>\n",
       "      <td>4.376548</td>\n",
       "      <td>18.377647</td>\n",
       "      <td>29.304396</td>\n",
       "    </tr>\n",
       "    <tr>\n",
       "      <th>std</th>\n",
       "      <td>8.002713</td>\n",
       "      <td>3.183815</td>\n",
       "      <td>9.862101</td>\n",
       "      <td>8.002369</td>\n",
       "    </tr>\n",
       "    <tr>\n",
       "      <th>min</th>\n",
       "      <td>5.018200</td>\n",
       "      <td>0.990800</td>\n",
       "      <td>0.000000</td>\n",
       "      <td>13.098200</td>\n",
       "    </tr>\n",
       "    <tr>\n",
       "      <th>25%</th>\n",
       "      <td>14.885800</td>\n",
       "      <td>1.970150</td>\n",
       "      <td>8.200000</td>\n",
       "      <td>23.133050</td>\n",
       "    </tr>\n",
       "    <tr>\n",
       "      <th>50%</th>\n",
       "      <td>20.943050</td>\n",
       "      <td>3.306750</td>\n",
       "      <td>20.700000</td>\n",
       "      <td>29.060600</td>\n",
       "    </tr>\n",
       "    <tr>\n",
       "      <th>75%</th>\n",
       "      <td>26.866950</td>\n",
       "      <td>5.587600</td>\n",
       "      <td>25.700000</td>\n",
       "      <td>35.117250</td>\n",
       "    </tr>\n",
       "    <tr>\n",
       "      <th>max</th>\n",
       "      <td>36.901800</td>\n",
       "      <td>18.376300</td>\n",
       "      <td>45.600000</td>\n",
       "      <td>44.981800</td>\n",
       "    </tr>\n",
       "  </tbody>\n",
       "</table>\n",
       "</div>"
      ],
      "text/plain": [
       "       Animal Products  Cereals - Excluding Beer     Obesity  Vegetal Products\n",
       "count       170.000000                170.000000  170.000000        170.000000\n",
       "mean         20.695714                  4.376548   18.377647         29.304396\n",
       "std           8.002713                  3.183815    9.862101          8.002369\n",
       "min           5.018200                  0.990800    0.000000         13.098200\n",
       "25%          14.885800                  1.970150    8.200000         23.133050\n",
       "50%          20.943050                  3.306750   20.700000         29.060600\n",
       "75%          26.866950                  5.587600   25.700000         35.117250\n",
       "max          36.901800                 18.376300   45.600000         44.981800"
      ]
     },
     "execution_count": 17,
     "metadata": {},
     "output_type": "execute_result"
    }
   ],
   "source": [
    "dataset = pd.read_csv('records.csv')\n",
    "result = pd.read_csv('results.csv').to_numpy()\n",
    "X, y = dataset, result.ravel()\n",
    "print(y.shape)\n",
    "print(X.shape)\n",
    "X.describe()"
   ]
  },
  {
   "cell_type": "code",
   "execution_count": 18,
   "metadata": {},
   "outputs": [
    {
     "data": {
      "text/plain": [
       "<AxesSubplot:>"
      ]
     },
     "execution_count": 18,
     "metadata": {},
     "output_type": "execute_result"
    },
    {
     "data": {
      "image/png": "[encoded data removed]",
      "text/plain": [
       "<Figure size 432x288 with 2 Axes>"
      ]
     },
     "metadata": {
      "needs_background": "light"
     },
     "output_type": "display_data"
    }
   ],
   "source": [
    "sns.heatmap(X.corr(), annot=True)"
   ]
  },
  {
   "cell_type": "markdown",
   "metadata": {},
   "source": [
    "Because there is multi-colinearity, we will remove the 4th Col from Data"
   ]
  },
  {
   "cell_type": "code",
   "execution_count": 19,
   "metadata": {},
   "outputs": [
    {
     "name": "stdout",
     "output_type": "stream",
     "text": [
      "   Animal Products  Cereals - Excluding Beer  Obesity\n",
      "0          21.6397                    8.0353      4.5\n",
      "1          32.0002                    2.6734     22.3\n",
      "2          14.4175                    4.2035     26.6\n",
      "3          15.3041                    6.5545      6.8\n",
      "4          27.7033                    3.2153     19.1\n"
     ]
    }
   ],
   "source": [
    "X = X.iloc[:, 0:3]\n",
    "print(X.head())"
   ]
  },
  {
   "cell_type": "markdown",
   "metadata": {},
   "source": [
    "Set train and test sizes"
   ]
  },
  {
   "cell_type": "code",
   "execution_count": 20,
   "metadata": {},
   "outputs": [],
   "source": [
    "X_train, X_test, y_train, y_test = train_test_split(\n",
    "    X, y, test_size=0.2, random_state=10)\n",
    "X_train = sc_X.fit_transform(X_train)\n",
    "X_test = sc_X.transform(X_test)"
   ]
  },
  {
   "cell_type": "markdown",
   "metadata": {},
   "source": [
    "creating the evaluation_model function with the Coefficient of determination"
   ]
  },
  {
   "cell_type": "code",
   "execution_count": 21,
   "metadata": {},
   "outputs": [],
   "source": [
    "def eval_model(model):\n",
    "    mean_abs_error=mean_absolute_error(y_test,model.predict(X_test))\n",
    "    mean_square_error=mean_squared_error(y_test,model.predict(X_test))\n",
    "    r2_error=r2_score(y_test,model.predict(X_test))\n",
    "\n",
    "    print(f'Mean absolute error : {mean_abs_error}')\n",
    "    print(f'Mean squared error : {mean_square_error}')\n",
    "    print(f'R2 score : {r2_error}')"
   ]
  },
  {
   "cell_type": "markdown",
   "metadata": {},
   "source": [
    "Decision tree"
   ]
  },
  {
   "cell_type": "code",
   "execution_count": 22,
   "metadata": {},
   "outputs": [
    {
     "name": "stdout",
     "output_type": "stream",
     "text": [
      "Evaluating Decision tree model :\n",
      "Mean absolute error : 0.04138705117647059\n",
      "Mean squared error : 0.0038557427356763255\n",
      "R2 score : -0.7987139794482634\n"
     ]
    }
   ],
   "source": [
    "regr = DecisionTreeRegressor(random_state=0)\n",
    "regr.fit(X,y)\n",
    "y_pred = regr.predict(X_test)\n",
    "print(\"Evaluating Decision tree model :\")\n",
    "eval_model(regr)"
   ]
  },
  {
   "cell_type": "markdown",
   "metadata": {},
   "source": [
    "Lasso"
   ]
  },
  {
   "cell_type": "code",
   "execution_count": 23,
   "metadata": {},
   "outputs": [
    {
     "name": "stdout",
     "output_type": "stream",
     "text": [
      "Evaluating Lasso model :\n",
      "Mean absolute error : 0.03847743185596886\n",
      "Mean squared error : 0.002162057016120683\n",
      "R2 score : -0.008605201606721513\n"
     ]
    }
   ],
   "source": [
    "#Create linear regression object\n",
    "regr = Lasso()\n",
    "\n",
    "# Train the model using the training sets\n",
    "regr.fit(X_train, y_train)\n",
    "\n",
    "# Make predictions using the testing set\n",
    "y_pred = regr.predict(X_test)\n",
    "print(\"Evaluating Lasso model :\")\n",
    "eval_model(regr)"
   ]
  },
  {
   "cell_type": "markdown",
   "metadata": {},
   "source": [
    "Ridge"
   ]
  },
  {
   "cell_type": "code",
   "execution_count": 24,
   "metadata": {},
   "outputs": [
    {
     "name": "stdout",
     "output_type": "stream",
     "text": [
      "Evaluating BayesianRidge model :\n",
      "Mean absolute error : 0.032492456592651424\n",
      "Mean squared error : 0.0015845280417253927\n",
      "R2 score : 0.26081356177947534\n"
     ]
    }
   ],
   "source": [
    "#Create linear regression object\n",
    "regr = Ridge()\n",
    "\n",
    "# Train the model using the training sets\n",
    "regr.fit(X_train, y_train)\n",
    "\n",
    "# Make predictions using the testing set\n",
    "y_pred = regr.predict(X_test)\n",
    "print(\"Evaluating BayesianRidge model :\")\n",
    "eval_model(regr)"
   ]
  },
  {
   "cell_type": "markdown",
   "metadata": {},
   "source": [
    "Bayesian Ridge"
   ]
  },
  {
   "cell_type": "code",
   "execution_count": 25,
   "metadata": {},
   "outputs": [
    {
     "name": "stdout",
     "output_type": "stream",
     "text": [
      "Evaluating BayesianRidge model :\n",
      "Mean absolute error : 0.03239062327217962\n",
      "Mean squared error : 0.0015749892692064286\n",
      "R2 score : 0.2652634238820174\n"
     ]
    }
   ],
   "source": [
    "#Create linear regression object\n",
    "regr = BayesianRidge()\n",
    "\n",
    "# Train the model using the training sets\n",
    "regr.fit(X_train, y_train)\n",
    "\n",
    "# Make predictions using the testing set\n",
    "y_pred = regr.predict(X_test)\n",
    "print(\"Evaluating BayesianRidge model :\")\n",
    "eval_model(regr)"
   ]
  },
  {
   "cell_type": "markdown",
   "metadata": {},
   "source": [
    "KNN"
   ]
  },
  {
   "cell_type": "code",
   "execution_count": 26,
   "metadata": {},
   "outputs": [
    {
     "name": "stdout",
     "output_type": "stream",
     "text": [
      "Evaluating KNN model :\n",
      "Mean absolute error : 0.035126137921568636\n",
      "Mean squared error : 0.0024906324334593526\n",
      "R2 score : -0.1618864853919697\n"
     ]
    }
   ],
   "source": [
    "regr = KNeighborsRegressor(n_neighbors=3)\n",
    "\n",
    "# Train the model using the training sets\n",
    "regr.fit(X_train, y_train)\n",
    "\n",
    "# Make predictions using the testing set\n",
    "y_pred = regr.predict(X_test)\n",
    "\n",
    "print(\"Evaluating KNN model :\")\n",
    "eval_model(regr)\n"
   ]
  },
  {
   "cell_type": "markdown",
   "metadata": {},
   "source": [
    "SVM"
   ]
  },
  {
   "cell_type": "code",
   "execution_count": 27,
   "metadata": {},
   "outputs": [
    {
     "name": "stdout",
     "output_type": "stream",
     "text": [
      "Evaluating SVM model :\n",
      "Mean absolute error : 0.062316972235294116\n",
      "Mean squared error : 0.0047750787519643895\n",
      "R2 score : -1.2275866137677207\n"
     ]
    }
   ],
   "source": [
    "regr = SVR(C=10)\n",
    "\n",
    "# Train the model using the training sets\n",
    "regr.fit(X_train, y_train)\n",
    "\n",
    "# Make predictions using the testing set\n",
    "y_pred = regr.predict(X_test)\n",
    "\n",
    "print(\"Evaluating SVM model :\")\n",
    "eval_model(regr)"
   ]
  },
  {
   "cell_type": "markdown",
   "metadata": {},
   "source": [
    "MLP"
   ]
  },
  {
   "cell_type": "code",
   "execution_count": 28,
   "metadata": {},
   "outputs": [
    {
     "name": "stdout",
     "output_type": "stream",
     "text": [
      "Evaluating MLP model :\n",
      "Mean absolute error : 0.056376898557502324\n",
      "Mean squared error : 0.0043165218373740965\n",
      "R2 score : -1.0136686246305264\n"
     ]
    }
   ],
   "source": [
    "regr = MLPRegressor()\n",
    "\n",
    "# Train the model using the training sets\n",
    "regr.fit(X_train, y_train)\n",
    "\n",
    "# Make predictions using the testing set\n",
    "y_pred = regr.predict(X_test)\n",
    "\n",
    "print(\"Evaluating MLP model :\")\n",
    "eval_model(regr)"
   ]
  },
  {
   "cell_type": "markdown",
   "metadata": {},
   "source": [
    "Random Forest"
   ]
  },
  {
   "cell_type": "code",
   "execution_count": 29,
   "metadata": {},
   "outputs": [
    {
     "name": "stdout",
     "output_type": "stream",
     "text": [
      "Evaluating Random forest model :\n",
      "Mean absolute error : 0.030705281115294105\n",
      "Mean squared error : 0.0014390171023605542\n",
      "R2 score : 0.32869479212620745\n"
     ]
    }
   ],
   "source": [
    "regr = RandomForestRegressor(n_estimators=100, random_state=0)\n",
    "\n",
    "# Train the model using the training sets\n",
    "regr.fit(X_train, y_train)\n",
    "\n",
    "# Make predictions using the testing set\n",
    "y_pred = regr.predict(X_test)\n",
    "print(\"Evaluating Random forest model :\")\n",
    "eval_model(regr)"
   ]
  },
  {
   "cell_type": "markdown",
   "metadata": {},
   "source": [
    "Gradient Boosting Regressor"
   ]
  },
  {
   "cell_type": "code",
   "execution_count": 30,
   "metadata": {},
   "outputs": [
    {
     "name": "stdout",
     "output_type": "stream",
     "text": [
      "Evaluating Gradient Boosting model :\n",
      "Mean absolute error : 0.030681968560580822\n",
      "Mean squared error : 0.0013783119345756754\n",
      "R2 score : 0.3570139102325821\n"
     ]
    }
   ],
   "source": [
    "params = {\n",
    "    \"n_estimators\": 100,\n",
    "    \"max_depth\": 4,\n",
    "    \"min_samples_split\": 5,\n",
    "    \"learning_rate\": 0.01,\n",
    "    \n",
    "}\n",
    "\n",
    "regr = GradientBoostingRegressor(**params)\n",
    "regr.fit(X_train, y_train)\n",
    "# Make predictions using the testing set\n",
    "y_pred = regr.predict(X_test)\n",
    "print(\"Evaluating Gradient Boosting model :\")\n",
    "eval_model(regr)"
   ]
  }
 ],
 "metadata": {
  "interpreter": {
   "hash": "655fa1bae6472e9c27cd899c4cdf8b59ed3adc12f622bc5c9d24ff662d81161d"
  },
  "kernelspec": {
   "display_name": "Python 3.9.7 ('base')",
   "language": "python",
   "name": "python3"
  },
  "language_info": {
   "codemirror_mode": {
    "name": "ipython",
    "version": 3
   },
   "file_extension": ".py",
   "mimetype": "text/x-python",
   "name": "python",
   "nbconvert_exporter": "python",
   "pygments_lexer": "ipython3",
   "version": "3.9.7"
  },
  "orig_nbformat": 4
 },
 "nbformat": 4,
 "nbformat_minor": 2
}
